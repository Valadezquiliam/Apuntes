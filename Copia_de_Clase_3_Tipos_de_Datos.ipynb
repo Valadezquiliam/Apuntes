{
  "nbformat": 4,
  "nbformat_minor": 0,
  "metadata": {
    "colab": {
      "provenance": [],
      "authorship_tag": "ABX9TyNfS/f9FRf+4HqUK5ctwrL8",
      "include_colab_link": true
    },
    "kernelspec": {
      "name": "python3",
      "display_name": "Python 3"
    },
    "language_info": {
      "name": "python"
    }
  },
  "cells": [
    {
      "cell_type": "markdown",
      "metadata": {
        "id": "view-in-github",
        "colab_type": "text"
      },
      "source": [
        "<a href=\"https://colab.research.google.com/github/Valadezquiliam/Apuntes/blob/main/Copia_de_Clase_3_Tipos_de_Datos.ipynb\" target=\"_parent\"><img src=\"https://colab.research.google.com/assets/colab-badge.svg\" alt=\"Open In Colab\"/></a>"
      ]
    },
    {
      "cell_type": "markdown",
      "source": [
        "# Tipos de datos.\n",
        "\n",
        "Python ha evolucionado para ofrecer poderosos tipos de datos que lo diferencian de otros lenguajes de programación por su sencillez y flexibilidad.\n",
        "\n",
        "Aún cuando Python cuenta con una amplia biblioteca que incluye muy diversos tipos de datos, ofrece ciertos tipos básicos.\n",
        "\n",
        "#Particularidades los tipos de datos en Python.\n",
        "**Tipos dinámicos.**\n",
        "\n",
        "Python es un lenguaje que no requiere que se defina el tipo de un objeto. El intérprete \"infiere\" el tipo de dato del que se trata.\n",
        "\n",
        "**Fuertemente tipado.**\n",
        "\n",
        "Existen operaciones que no están permitidas entre tipos que no sean compatibles.\n",
        "\n",
        "**Los tipos son clases.**\n",
        "\n",
        "En Python todos sus elementos son objetos y los datos una vez identificados, se convierten en objetos instanciados del tipo al que pertenecen.\n",
        "\n",
        "**Tabla de tipos de datos básicos de Python 3**.\n",
        "\n",
        "La siguiente tabla resume y describe los tipos de datos básicos de Python 3."
      ],
      "metadata": {
        "id": "Dtz6PeKYS4gA"
      }
    },
    {
      "cell_type": "markdown",
      "source": [
        "Así se define al numero 24 en sistema decimal"
      ],
      "metadata": {
        "id": "bpCl4eqoTXT9"
      }
    },
    {
      "cell_type": "code",
      "execution_count": null,
      "metadata": {
        "colab": {
          "base_uri": "https://localhost:8080/"
        },
        "id": "Wdm_5MCASub8",
        "outputId": "5ce65f5d-8a4d-41c8-8ba3-cadf1f78f5e6"
      },
      "outputs": [
        {
          "output_type": "execute_result",
          "data": {
            "text/plain": [
              "24"
            ]
          },
          "metadata": {},
          "execution_count": 3
        }
      ],
      "source": [
        "24"
      ]
    },
    {
      "cell_type": "code",
      "source": [
        "0b10001011"
      ],
      "metadata": {
        "id": "mGg4pp8dW6ih",
        "colab": {
          "base_uri": "https://localhost:8080/"
        },
        "outputId": "e6ed3018-107e-4cd6-802b-d4ff4c99951d"
      },
      "execution_count": null,
      "outputs": [
        {
          "output_type": "execute_result",
          "data": {
            "text/plain": [
              "139"
            ]
          },
          "metadata": {},
          "execution_count": 2
        }
      ]
    },
    {
      "cell_type": "markdown",
      "source": [
        "La siguiente celda define al número 1522 en formato hexadecimal."
      ],
      "metadata": {
        "id": "pMh8on-UToib"
      }
    },
    {
      "cell_type": "code",
      "source": [
        "0x5f2"
      ],
      "metadata": {
        "colab": {
          "base_uri": "https://localhost:8080/"
        },
        "id": "r36wAHCLTpm7",
        "outputId": "062a9b07-439b-4f19-ae7a-d51f0a84c19e"
      },
      "execution_count": null,
      "outputs": [
        {
          "output_type": "execute_result",
          "data": {
            "text/plain": [
              "1522"
            ]
          },
          "metadata": {},
          "execution_count": 4
        }
      ]
    },
    {
      "cell_type": "markdown",
      "source": [
        "La siguiente celda define al número 159 en formato octal."
      ],
      "metadata": {
        "id": "WVaMVGK8TxVb"
      }
    },
    {
      "cell_type": "code",
      "source": [
        "0o237"
      ],
      "metadata": {
        "colab": {
          "base_uri": "https://localhost:8080/"
        },
        "id": "oAXwdDSTTyWU",
        "outputId": "ad6e4d15-b00c-4dc1-cab2-52f7caa80304"
      },
      "execution_count": null,
      "outputs": [
        {
          "output_type": "execute_result",
          "data": {
            "text/plain": [
              "159"
            ]
          },
          "metadata": {},
          "execution_count": 5
        }
      ]
    },
    {
      "cell_type": "markdown",
      "source": [
        "**Números de punto flotante (float)**.\n",
        "\n",
        "Los objetos tipo float corresponden al conjunto de los números reales.\n",
        "\n",
        "**Ejemplos:**\n",
        "\n",
        "3.141595\n",
        "\n",
        "12\n",
        "\n",
        "-45.3556\n",
        "\n",
        "**Precisión de los números flotantes.**\n",
        "\n",
        "Hay que tomar en cuenta de que la precisión de los números dependen en gran medida de la capacidad del equipo de cómputo, por lo que en ocasiones una operación con números de tipo float no dará el resultado exacto, sino una aproximación.\n",
        "\n",
        "#Ejemplo:\n",
        "La siguiente expresión da por resultado un número racional que corresponde a una suceción infinita del dígito 6 después del punto decimal."
      ],
      "metadata": {
        "id": "rAVEisIVUUh6"
      }
    },
    {
      "cell_type": "code",
      "source": [
        "2/3"
      ],
      "metadata": {
        "id": "NlLiKxu8UjKc"
      },
      "execution_count": null,
      "outputs": []
    },
    {
      "cell_type": "markdown",
      "source": [
        "En este caso, es imposible para Python calcular una sucesión infinita de 6 y por ende truncó el número a 16 decimales.\n",
        "\n",
        "**Números complejos (complex).**\n",
        "\n",
        "Los objetos de tipo complex corresponden al conjunto de los números complejos.\n",
        "\n",
        "Siempre que el componente en los números reales sea distinto de 0, los objetos de tipo complex se expresarán como un par de números de tipo float separados por el operador de adición +, en el que el primer número corresponde al componente en los números reales y el componente en los números imaginarios es identificado añadiéndole la letra j al final.\n",
        "\n",
        "La sintaxis estricta es la siguiente:\n",
        "\n",
        "Cuando el componente imagionario es postivo. `(<real>+<imaginario>j)`\n",
        "\n",
        "Cuando el componente imaginario es negativo. `(<real>-<imaginario>j)`\n",
        "\n",
        "Cuando el componente real es igual a 0.\n",
        "\n",
        "`<imaginario>j`\n",
        "\n",
        "**Ejemplos:**\n",
        "\n",
        "La siguiente celda muestra la forma estricta en la que se define un objeto tipo **complex**."
      ],
      "metadata": {
        "id": "ySYG7--TUnGQ"
      }
    },
    {
      "cell_type": "code",
      "source": [
        "(2+5j)"
      ],
      "metadata": {
        "id": "VOWCBsuJU4Qd"
      },
      "execution_count": null,
      "outputs": []
    },
    {
      "cell_type": "markdown",
      "source": [
        "Las siguientes expresiones implican operaciones aritméticas con números imaginario, las cuales dan por resultado objetos tipo complex."
      ],
      "metadata": {
        "id": "gUruhT8qU8Cs"
      }
    },
    {
      "cell_type": "code",
      "source": [
        "-2.9j - 23.03"
      ],
      "metadata": {
        "colab": {
          "base_uri": "https://localhost:8080/"
        },
        "id": "Cj3uYVHpU9Qy",
        "outputId": "d6e58124-7f2e-43d1-d12e-f66e75474361"
      },
      "execution_count": null,
      "outputs": [
        {
          "output_type": "execute_result",
          "data": {
            "text/plain": [
              "(-23.03-2.9j)"
            ]
          },
          "metadata": {},
          "execution_count": 6
        }
      ]
    },
    {
      "cell_type": "code",
      "source": [
        "12.4 + 0j"
      ],
      "metadata": {
        "colab": {
          "base_uri": "https://localhost:8080/"
        },
        "id": "Hq0Hz7z5VKnU",
        "outputId": "f5ee0f98-e62c-440c-8aa4-0c9cf33e3abc"
      },
      "execution_count": null,
      "outputs": [
        {
          "output_type": "execute_result",
          "data": {
            "text/plain": [
              "(12.4+0j)"
            ]
          },
          "metadata": {},
          "execution_count": 7
        }
      ]
    },
    {
      "cell_type": "markdown",
      "source": [
        "En caso de que sólo se defina el componente imaginario, el resultado sólo será este componente."
      ],
      "metadata": {
        "id": "8bVIXP1mVQs3"
      }
    },
    {
      "cell_type": "code",
      "source": [
        "15j"
      ],
      "metadata": {
        "id": "HFaoSPDRVRSX"
      },
      "execution_count": null,
      "outputs": []
    },
    {
      "cell_type": "markdown",
      "source": [
        "**Valores booleanos (bool).**\n",
        "\n",
        "El tipo bool es una especie de tipo numérico que es utilizado para evaluar expresiones lógicas y tiene dos valores: **True y False.**\n",
        "\n",
        "Si la expresión lógica es cierta, el resultado es True.\n",
        "\n",
        "Si la expresión lógica NO es cierta, el resultado es False. El tipo bool es una especie de tipo numérico\n",
        "\n",
        "False equivale numéricamente a **0.**\n",
        "\n",
        "Cualquier otro valor no vacío equivale a True y su valor por defecto es **1**."
      ],
      "metadata": {
        "id": "6-8p3-zeV8h3"
      }
    },
    {
      "cell_type": "code",
      "source": [
        "True"
      ],
      "metadata": {
        "id": "JKM0TTJUWFuL"
      },
      "execution_count": null,
      "outputs": []
    },
    {
      "cell_type": "code",
      "source": [
        "False"
      ],
      "metadata": {
        "id": "teoy-6zDWGnQ"
      },
      "execution_count": null,
      "outputs": []
    },
    {
      "cell_type": "markdown",
      "source": [
        "**NoneType.**\n",
        "\n",
        "El único objeto de este tipo es None y representa un valor nulo.\n",
        "\n",
        "Una expresión que dé por resultado None no es desplegado por el intérprete.\n",
        "\n",
        "**Ejemplo:**\n",
        "\n",
        "La siguiente celda incluye al objeto None, pero al ejecutarla, no se despliega nada"
      ],
      "metadata": {
        "id": "eQztUoLbWKvH"
      }
    },
    {
      "cell_type": "code",
      "source": [
        "None"
      ],
      "metadata": {
        "id": "L1aQK5BAWRuT"
      },
      "execution_count": null,
      "outputs": []
    }
  ]
}