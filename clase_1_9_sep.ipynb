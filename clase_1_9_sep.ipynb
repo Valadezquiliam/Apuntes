{
  "nbformat": 4,
  "nbformat_minor": 0,
  "metadata": {
    "colab": {
      "provenance": [],
      "authorship_tag": "ABX9TyMcwL+fintDngopKLyCfozp",
      "include_colab_link": true
    },
    "kernelspec": {
      "name": "python3",
      "display_name": "Python 3"
    },
    "language_info": {
      "name": "python"
    }
  },
  "cells": [
    {
      "cell_type": "markdown",
      "metadata": {
        "id": "view-in-github",
        "colab_type": "text"
      },
      "source": [
        "<a href=\"https://colab.research.google.com/github/Valadezquiliam/Apuntes/blob/main/clase_1_9_sep.ipynb\" target=\"_parent\"><img src=\"https://colab.research.google.com/assets/colab-badge.svg\" alt=\"Open In Colab\"/></a>"
      ]
    },
    {
      "cell_type": "markdown",
      "source": [
        "# Palabras Reservadas\n",
        "  Las palabras reservadas (keywords) corresponden a los nombres de las declaraciones que el interprete de Phyton incluye por defecto. No se deben utilizar dichas palabras para asignar nombres a otros objetos.\n",
        "  \n",
        "  El listado de palabras reservadas puede ser consultado ingresando help(\"keywords\") desde la interfaz.\n",
        "\n",
        "  Ejemplo:"
      ],
      "metadata": {
        "id": "4Hxjo4jriSLL"
      }
    },
    {
      "cell_type": "code",
      "execution_count": null,
      "metadata": {
        "colab": {
          "base_uri": "https://localhost:8080/"
        },
        "id": "Y7mHeXZWg9Es",
        "outputId": "842f6e97-dac8-4516-b236-3bf11f26a4fd"
      },
      "outputs": [
        {
          "output_type": "stream",
          "name": "stdout",
          "text": [
            "\n",
            "Here is a list of the Python keywords.  Enter any keyword to get more help.\n",
            "\n",
            "False               class               from                or\n",
            "None                continue            global              pass\n",
            "True                def                 if                  raise\n",
            "and                 del                 import              return\n",
            "as                  elif                in                  try\n",
            "assert              else                is                  while\n",
            "async               except              lambda              with\n",
            "await               finally             nonlocal            yield\n",
            "break               for                 not                 \n",
            "\n"
          ]
        }
      ],
      "source": [
        "help(\"keywords\")"
      ]
    },
    {
      "cell_type": "markdown",
      "source": [
        "# El espacio de nombres (namespace)\n",
        "El espacio de nombres (namespace) contiene una relacion de los objetos existentes en la memoria del sistema y los nombres a los que estan ligados.\n",
        "\n",
        "\n",
        "\n",
        "*   Phyton es un lenguaje de alto nivel en el que todos sus elementos son objetos incluyendo los tipos de datos básicos de tal forma que los términos \"valor\" y \"objeto\" son sinónimos.\n",
        "*   Si un objeto no esta ligado al menos a un nombre, dicho objeto es desechado por el intérprete.\n",
        "\n",
        "\n",
        "*   Un objeto puede tener más de un nombre.\n",
        "\n",
        "# El operador de asignación =\n",
        "Para relacionar a un nombre con un objeto, se utiliza el operador = con la siguiente sintáxis:\n",
        "\n",
        "\n",
        "```\n",
        "# Esto tiene formato de código\n",
        "```\n",
        "\n",
        "\n",
        "Ejemplos"
      ],
      "metadata": {
        "id": "urFI0AKwjLtR"
      }
    },
    {
      "cell_type": "code",
      "source": [
        "saludo = \"Hola\"\n",
        "print (\"saludo\")\n",
        "num1 = 5\n",
        "print(num1)"
      ],
      "metadata": {
        "colab": {
          "base_uri": "https://localhost:8080/"
        },
        "id": "_sXVFmOHSmeR",
        "outputId": "cc71c7a0-a2fd-43d1-ed26-d1572203280a"
      },
      "execution_count": 1,
      "outputs": [
        {
          "output_type": "stream",
          "name": "stdout",
          "text": [
            "saludo\n",
            "5\n"
          ]
        }
      ]
    },
    {
      "cell_type": "code",
      "source": [
        "Num1 = 9\n",
        "print(Num1)\n",
        "Num2 = 4\n",
        "print(Num2)\n",
        "Num3 = Num1 + Num2\n",
        "print(Num3)\n",
        "Num4 = Num3 + 28\n",
        "print(Num4)\n",
        "Mayor_Edad = True\n",
        "a = 34.56\n",
        "a\n",
        "entero, flotante, complejo, booleano = 12, 4.5, (12.3 + 23j), True\n",
        "print(complejo)"
      ],
      "metadata": {
        "colab": {
          "base_uri": "https://localhost:8080/"
        },
        "id": "YWsw8VmWltF8",
        "outputId": "75203e05-51f1-4fc4-fa4b-9a03cc8cff8d"
      },
      "execution_count": null,
      "outputs": [
        {
          "output_type": "stream",
          "name": "stdout",
          "text": [
            "9\n",
            "4\n",
            "13\n",
            "41\n",
            "(12.3+23j)\n"
          ]
        }
      ]
    }
  ]
}