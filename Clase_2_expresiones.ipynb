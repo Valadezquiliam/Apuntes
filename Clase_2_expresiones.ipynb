{
  "nbformat": 4,
  "nbformat_minor": 0,
  "metadata": {
    "colab": {
      "provenance": [],
      "authorship_tag": "ABX9TyPArdfSOZZCPOk0M/oxkqrY",
      "include_colab_link": true
    },
    "kernelspec": {
      "name": "python3",
      "display_name": "Python 3"
    },
    "language_info": {
      "name": "python"
    }
  },
  "cells": [
    {
      "cell_type": "markdown",
      "metadata": {
        "id": "view-in-github",
        "colab_type": "text"
      },
      "source": [
        "<a href=\"https://colab.research.google.com/github/Valadezquiliam/Apuntes/blob/main/Clase_2_expresiones.ipynb\" target=\"_parent\"><img src=\"https://colab.research.google.com/assets/colab-badge.svg\" alt=\"Open In Colab\"/></a>"
      ]
    },
    {
      "cell_type": "markdown",
      "source": [
        "#Expresiones y comentarios\n",
        "###Expresiones\n",
        "Una expresión es una combinación de nombres, objetos, operadores, funciones y métodos cuya sintáxis es correcta para el intérprete de Phyton y que puede dar pot resultado un valor.\n",
        "\n",
        "**Ejemplos:** La siguiente celda es una expresión de asignación, la cual liga el nombre numero al objeto 78.3 mediante el operador de asignacion =."
      ],
      "metadata": {
        "id": "jwf-A_k1DChE"
      }
    },
    {
      "cell_type": "code",
      "source": [
        "numero = 78.3"
      ],
      "metadata": {
        "id": "jApwVvf9L6ea"
      },
      "execution_count": null,
      "outputs": []
    },
    {
      "cell_type": "markdown",
      "source": [
        "La siguiente es una expresiòn que despliega el objeto relacionado con el nombre numero"
      ],
      "metadata": {
        "id": "XLbvLgObMAU5"
      }
    },
    {
      "cell_type": "code",
      "source": [
        "numero"
      ],
      "metadata": {
        "colab": {
          "base_uri": "https://localhost:8080/"
        },
        "id": "8srG_k6oMKpX",
        "outputId": "c935ca7b-bae7-4794-c8e6-4e1512053506"
      },
      "execution_count": null,
      "outputs": [
        {
          "output_type": "execute_result",
          "data": {
            "text/plain": [
              "78.3"
            ]
          },
          "metadata": {},
          "execution_count": 10
        }
      ]
    },
    {
      "cell_type": "markdown",
      "source": [
        "La siguiente es una expresion aritmetica  que implica valores numericos y el operador"
      ],
      "metadata": {
        "id": "bmBESoYPNVgE"
      }
    },
    {
      "cell_type": "code",
      "source": [
        "1+1"
      ],
      "metadata": {
        "colab": {
          "base_uri": "https://localhost:8080/"
        },
        "id": "AAiUn2vGNnAz",
        "outputId": "0af2b742-6a4a-4e6e-c1cd-9f0caf7235b7"
      },
      "execution_count": null,
      "outputs": [
        {
          "output_type": "execute_result",
          "data": {
            "text/plain": [
              "2"
            ]
          },
          "metadata": {},
          "execution_count": 12
        }
      ]
    },
    {
      "cell_type": "markdown",
      "source": [
        "La siguiente es una expresion de relacion que evalua si 20 es mayor o igual a 10 usando el operador `>=`"
      ],
      "metadata": {
        "id": "1ynQDNzdMhHt"
      }
    },
    {
      "cell_type": "code",
      "source": [
        "20>=10"
      ],
      "metadata": {
        "colab": {
          "base_uri": "https://localhost:8080/"
        },
        "id": "b9tw_ZUMMuts",
        "outputId": "3c486331-fe48-4a8d-852a-7804254dc593"
      },
      "execution_count": null,
      "outputs": [
        {
          "output_type": "execute_result",
          "data": {
            "text/plain": [
              "True"
            ]
          },
          "metadata": {},
          "execution_count": 11
        }
      ]
    },
    {
      "cell_type": "markdown",
      "source": [
        "La siguiente expresiòn ejecuta el metodo `upper()`, propio de los objetos tipo `str` mediante el operador de atributo. En este caso, convierte todas las letras del texto en mayusculas."
      ],
      "metadata": {
        "id": "xkjvxdBpM0y0"
      }
    },
    {
      "cell_type": "code",
      "source": [
        "\"carrot\".upper()"
      ],
      "metadata": {
        "colab": {
          "base_uri": "https://localhost:8080/",
          "height": 35
        },
        "id": "2L0Euk1TNtPk",
        "outputId": "2a561b6e-c421-4fdf-d6ad-03aaee3b16fd"
      },
      "execution_count": null,
      "outputs": [
        {
          "output_type": "execute_result",
          "data": {
            "text/plain": [
              "'CARROT'"
            ],
            "application/vnd.google.colaboratory.intrinsic+json": {
              "type": "string"
            }
          },
          "metadata": {},
          "execution_count": 13
        }
      ]
    },
    {
      "cell_type": "markdown",
      "source": [
        "La siguiente celda ejecuta una expresion que invoca a la funcion `len()`"
      ],
      "metadata": {
        "id": "mdGyZKZwNy8k"
      }
    },
    {
      "cell_type": "code",
      "source": [
        "len('trescientos')"
      ],
      "metadata": {
        "colab": {
          "base_uri": "https://localhost:8080/"
        },
        "id": "KbhhRxVOOY22",
        "outputId": "20058fd8-c369-4e82-88c3-f3e48fc44d1d"
      },
      "execution_count": null,
      "outputs": [
        {
          "output_type": "execute_result",
          "data": {
            "text/plain": [
              "11"
            ]
          },
          "metadata": {},
          "execution_count": 14
        }
      ]
    },
    {
      "cell_type": "markdown",
      "source": [
        "# Ejecucion de varias expresiones en una sola linea\n",
        "El interprete de Phyton permite ejecutar multiples expresiones en una sola linea, denotando el final de una expresion usando el signo de punto y coma ;\n",
        "\n",
        "Al usar esta sintaxis, el interprete solo desplegara el resultado de la ultima expresion ejecutada\n",
        "\n",
        "**Ejemplos:**\n",
        "A continuaciòn se ejecutaran varias expresiones en una sola linea. Todas las expresiones se ejecutaron, pero solo la ultima sera desplegada."
      ],
      "metadata": {
        "id": "8M40NQLtOfz9"
      }
    },
    {
      "cell_type": "code",
      "source": [
        "a = 3; \"hola\".upper(); a + 5"
      ],
      "metadata": {
        "colab": {
          "base_uri": "https://localhost:8080/"
        },
        "id": "fP7NNTWbPec3",
        "outputId": "e4fd2449-de92-4e95-deb1-ae7c10a07707"
      },
      "execution_count": null,
      "outputs": [
        {
          "output_type": "execute_result",
          "data": {
            "text/plain": [
              "8"
            ]
          },
          "metadata": {},
          "execution_count": 16
        }
      ]
    },
    {
      "cell_type": "markdown",
      "source": [
        "Si la ultima expresion tambien termina con un punto y coma, tampoco sera desplegada."
      ],
      "metadata": {
        "id": "MDil6FlkQ3PW"
      }
    },
    {
      "cell_type": "code",
      "source": [
        "a += 11; \"amigos\" * 3; a==1;"
      ],
      "metadata": {
        "id": "qSdtHeUfQ0cf"
      },
      "execution_count": null,
      "outputs": []
    },
    {
      "cell_type": "markdown",
      "source": [
        "**Advertencia:** No se recomienda usar este recurso ya que se corre el riesgo de ofuscar el codigo innecesariamente.\n",
        "\n",
        "Expresiones en el entorno interactivo. La interfaz interactiva evalua las expresiones tan pronto como son ingresadas y en su caso despliega el resultado.\n",
        "\n",
        "**Ejemplos:**\n",
        "\n",
        "Las siguientes celdas contienen varias expresiones cuyo resultado sera desplegado por el interprete de Phyton."
      ],
      "metadata": {
        "id": "7wrcW17vP9ZH"
      }
    },
    {
      "cell_type": "code",
      "source": [
        "4*3"
      ],
      "metadata": {
        "colab": {
          "base_uri": "https://localhost:8080/"
        },
        "id": "9tFui-9pQnlk",
        "outputId": "9e4bcdd1-9aaa-4a62-9f1b-6c05cfb9a6a4"
      },
      "execution_count": null,
      "outputs": [
        {
          "output_type": "execute_result",
          "data": {
            "text/plain": [
              "12"
            ]
          },
          "metadata": {},
          "execution_count": 18
        }
      ]
    },
    {
      "cell_type": "code",
      "source": [
        "15 == 25"
      ],
      "metadata": {
        "colab": {
          "base_uri": "https://localhost:8080/"
        },
        "id": "5awXRah1RbZQ",
        "outputId": "9bcbea1d-b65f-451f-9ed8-7e5b99122db1"
      },
      "execution_count": null,
      "outputs": [
        {
          "output_type": "execute_result",
          "data": {
            "text/plain": [
              "False"
            ]
          },
          "metadata": {},
          "execution_count": 20
        }
      ]
    },
    {
      "cell_type": "markdown",
      "source": [
        "**Comentarios:** Los comentarios son porciones de texto que aun cuando se encuentran dentro de un bloque de codigo, no son interpretados por Phyton y sirven primordialmente para documentar el codigo.\n",
        "\n",
        "Comentarios de una sola linea. Cualquier texto despues del caracter **#** y hasta el final de las lineas es considerado como un comentario.\n",
        "\n",
        "**Ejemplo:**"
      ],
      "metadata": {
        "id": "bToHsCrORuGQ"
      }
    },
    {
      "cell_type": "code",
      "source": [
        "15 + 23 # El resultado es 38"
      ],
      "metadata": {
        "colab": {
          "base_uri": "https://localhost:8080/"
        },
        "id": "LguqKw1OSanp",
        "outputId": "ae6711f9-b598-410f-8e44-dba98589167b"
      },
      "execution_count": null,
      "outputs": [
        {
          "output_type": "execute_result",
          "data": {
            "text/plain": [
              "38"
            ]
          },
          "metadata": {},
          "execution_count": 22
        }
      ]
    },
    {
      "cell_type": "markdown",
      "source": [
        "# **Docstrings**\n",
        "Phyton tambien permite incluir comentarios de varias lineas. Estos deben de estar encerrados entre triples comillas \"\"\" o entre triples apostrofes '''.\n",
        "\n",
        "Este tipo de comentarios son conocidos como **\"docstrings\"** y son utilizados para generar documentacion que se desplegara mediante la funcion `help()`.\n",
        "\n",
        "La siguiente celda define una funcion con nombre `funcion()`, la cual incluye un docstring al principio y otro al final."
      ],
      "metadata": {
        "id": "xANyvMaNTEcV"
      }
    },
    {
      "cell_type": "code",
      "source": [
        "def funcion():\n",
        "  \"\"\"Ejemplo del uso de un docstring.\n",
        "  En este caso se utiliza para documentar una funcion\"\"\"\n",
        "  print(\"Hola\")\n",
        "  \"\"\"Este es otro docstring.\n",
        "  No formara parte de la documentacion.\"\"\""
      ],
      "metadata": {
        "id": "XNgw_hJoUL4o"
      },
      "execution_count": null,
      "outputs": []
    },
    {
      "cell_type": "markdown",
      "source": [
        "Una vez que fue definida la funcion `funcion()`, el primer dosctring serà parte de la documentacion."
      ],
      "metadata": {
        "id": "JANmqjogU3FY"
      }
    },
    {
      "cell_type": "code",
      "source": [
        "help(funcion)"
      ],
      "metadata": {
        "colab": {
          "base_uri": "https://localhost:8080/"
        },
        "id": "7wBf0-ZiVGLa",
        "outputId": "d27cfea6-6ff2-4e61-fbd7-90b64b017b0e"
      },
      "execution_count": null,
      "outputs": [
        {
          "output_type": "stream",
          "name": "stdout",
          "text": [
            "Help on function funcion in module __main__:\n",
            "\n",
            "funcion()\n",
            "    Ejemplo del uso de un docstring.\n",
            "    En este caso se utiliza para documentar una funcion\n",
            "\n"
          ]
        }
      ]
    }
  ]
}